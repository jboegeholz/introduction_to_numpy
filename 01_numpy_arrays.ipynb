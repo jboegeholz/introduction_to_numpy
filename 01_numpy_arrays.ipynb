{
 "cells": [
  {
   "cell_type": "markdown",
   "metadata": {},
   "source": "# Numpy - Arrays"
  },
  {
   "cell_type": "code",
   "metadata": {
    "ExecuteTime": {
     "end_time": "2024-07-15T06:51:01.150861Z",
     "start_time": "2024-07-15T06:51:00.979441Z"
    }
   },
   "source": [
    "import numpy as np"
   ],
   "outputs": [],
   "execution_count": 1
  },
  {
   "cell_type": "markdown",
   "metadata": {},
   "source": [
    "## Arrays"
   ]
  },
  {
   "cell_type": "code",
   "metadata": {
    "ExecuteTime": {
     "end_time": "2024-07-15T06:51:01.166901Z",
     "start_time": "2024-07-15T06:51:01.152866Z"
    }
   },
   "source": [
    "a = np.array([1, 2, 3)\n",
    "a"
   ],
   "outputs": [
    {
     "data": {
      "text/plain": [
       "array([1, 2, 3, 4])"
      ]
     },
     "execution_count": 2,
     "metadata": {},
     "output_type": "execute_result"
    }
   ],
   "execution_count": 2
  },
  {
   "metadata": {
    "ExecuteTime": {
     "end_time": "2024-07-15T06:51:49.937195Z",
     "start_time": "2024-07-15T06:51:49.932183Z"
    }
   },
   "cell_type": "code",
   "source": [
    "b = a.tolist()\n",
    "b"
   ],
   "outputs": [
    {
     "data": {
      "text/plain": [
       "[1, 2, 3]"
      ]
     },
     "execution_count": 14,
     "metadata": {},
     "output_type": "execute_result"
    }
   ],
   "execution_count": 14
  },
  {
   "cell_type": "markdown",
   "metadata": {},
   "source": [
    "### Data Types"
   ]
  },
  {
   "metadata": {
    "ExecuteTime": {
     "end_time": "2024-07-15T06:52:20.285187Z",
     "start_time": "2024-07-15T06:52:20.269148Z"
    }
   },
   "cell_type": "code",
   "source": "a.dtype",
   "outputs": [
    {
     "data": {
      "text/plain": [
       "dtype('int64')"
      ]
     },
     "execution_count": 15,
     "metadata": {},
     "output_type": "execute_result"
    }
   ],
   "execution_count": 15
  },
  {
   "cell_type": "code",
   "metadata": {
    "ExecuteTime": {
     "end_time": "2024-07-15T06:51:01.182940Z",
     "start_time": "2024-07-15T06:51:01.168905Z"
    }
   },
   "source": [
    "a = np.array([1, 2, 3, 4], dtype=\"f\")\n",
    "a"
   ],
   "outputs": [
    {
     "data": {
      "text/plain": [
       "array([1., 2., 3., 4.], dtype=float32)"
      ]
     },
     "execution_count": 3,
     "metadata": {},
     "output_type": "execute_result"
    }
   ],
   "execution_count": 3
  },
  {
   "cell_type": "markdown",
   "metadata": {},
   "source": "## Scalars"
  },
  {
   "cell_type": "markdown",
   "metadata": {},
   "source": [
    "#### You can directly apply scalar arithmetic"
   ]
  },
  {
   "cell_type": "code",
   "metadata": {
    "ExecuteTime": {
     "end_time": "2024-07-15T06:51:01.198979Z",
     "start_time": "2024-07-15T06:51:01.185948Z"
    }
   },
   "source": [
    "a + 2\n",
    "a"
   ],
   "outputs": [
    {
     "data": {
      "text/plain": [
       "array([1., 2., 3., 4.], dtype=float32)"
      ]
     },
     "execution_count": 4,
     "metadata": {},
     "output_type": "execute_result"
    }
   ],
   "execution_count": 4
  },
  {
   "cell_type": "code",
   "metadata": {
    "ExecuteTime": {
     "end_time": "2024-07-15T06:51:01.215019Z",
     "start_time": "2024-07-15T06:51:01.199981Z"
    }
   },
   "source": [
    "a - 3\n",
    "a"
   ],
   "outputs": [
    {
     "data": {
      "text/plain": [
       "array([1., 2., 3., 4.], dtype=float32)"
      ]
     },
     "execution_count": 5,
     "metadata": {},
     "output_type": "execute_result"
    }
   ],
   "execution_count": 5
  },
  {
   "cell_type": "code",
   "metadata": {
    "ExecuteTime": {
     "end_time": "2024-07-15T06:51:01.231057Z",
     "start_time": "2024-07-15T06:51:01.217024Z"
    }
   },
   "source": [
    "a * 4\n",
    "a"
   ],
   "outputs": [
    {
     "data": {
      "text/plain": [
       "array([1., 2., 3., 4.], dtype=float32)"
      ]
     },
     "execution_count": 6,
     "metadata": {},
     "output_type": "execute_result"
    }
   ],
   "execution_count": 6
  },
  {
   "cell_type": "code",
   "metadata": {
    "ExecuteTime": {
     "end_time": "2024-07-15T06:51:01.247097Z",
     "start_time": "2024-07-15T06:51:01.233062Z"
    }
   },
   "source": [
    "a / 5\n",
    "a"
   ],
   "outputs": [
    {
     "data": {
      "text/plain": [
       "array([1., 2., 3., 4.], dtype=float32)"
      ]
     },
     "execution_count": 7,
     "metadata": {},
     "output_type": "execute_result"
    }
   ],
   "execution_count": 7
  },
  {
   "cell_type": "code",
   "metadata": {
    "ExecuteTime": {
     "end_time": "2024-07-15T06:51:01.262134Z",
     "start_time": "2024-07-15T06:51:01.249101Z"
    }
   },
   "source": [
    "a ** 2\n",
    "a"
   ],
   "outputs": [
    {
     "data": {
      "text/plain": [
       "array([1., 2., 3., 4.], dtype=float32)"
      ]
     },
     "execution_count": 8,
     "metadata": {},
     "output_type": "execute_result"
    }
   ],
   "execution_count": 8
  },
  {
   "cell_type": "markdown",
   "metadata": {},
   "source": "## Vector Arithmetics"
  },
  {
   "metadata": {},
   "cell_type": "markdown",
   "source": "### Addition"
  },
  {
   "cell_type": "code",
   "metadata": {
    "ExecuteTime": {
     "end_time": "2024-07-15T06:51:01.278173Z",
     "start_time": "2024-07-15T06:51:01.263136Z"
    }
   },
   "source": [
    "b = np.array([4, 3, 2, 1])\n",
    "a + b"
   ],
   "outputs": [
    {
     "data": {
      "text/plain": [
       "array([5., 5., 5., 5.])"
      ]
     },
     "execution_count": 9,
     "metadata": {},
     "output_type": "execute_result"
    }
   ],
   "execution_count": 9
  },
  {
   "metadata": {},
   "cell_type": "markdown",
   "source": "### Hadamard / Schur Product (element wise multiplication)\n"
  },
  {
   "cell_type": "code",
   "metadata": {
    "ExecuteTime": {
     "end_time": "2024-07-15T06:51:01.294217Z",
     "start_time": "2024-07-15T06:51:01.281182Z"
    }
   },
   "source": [
    "a = np.array([1, 2, 3])\n",
    "b = np.array([4, 3, 2])\n",
    "a * b"
   ],
   "outputs": [
    {
     "data": {
      "text/plain": [
       "array([4, 6, 6])"
      ]
     },
     "execution_count": 10,
     "metadata": {},
     "output_type": "execute_result"
    }
   ],
   "execution_count": 10
  },
  {
   "cell_type": "markdown",
   "metadata": {},
   "source": "### Dot product"
  },
  {
   "cell_type": "code",
   "metadata": {
    "ExecuteTime": {
     "end_time": "2024-07-15T06:51:01.310251Z",
     "start_time": "2024-07-15T06:51:01.296216Z"
    }
   },
   "source": [
    "a.dot(b)\n",
    "# 1*4 + 2*3 + 3*2 + 4*1"
   ],
   "outputs": [
    {
     "data": {
      "text/plain": [
       "np.int64(16)"
      ]
     },
     "execution_count": 11,
     "metadata": {},
     "output_type": "execute_result"
    }
   ],
   "execution_count": 11
  },
  {
   "metadata": {},
   "cell_type": "markdown",
   "source": "#### shorthand"
  },
  {
   "metadata": {
    "ExecuteTime": {
     "end_time": "2024-07-15T06:51:01.326290Z",
     "start_time": "2024-07-15T06:51:01.311254Z"
    }
   },
   "cell_type": "code",
   "source": "a@b",
   "outputs": [
    {
     "data": {
      "text/plain": [
       "np.int64(16)"
      ]
     },
     "execution_count": 12,
     "metadata": {},
     "output_type": "execute_result"
    }
   ],
   "execution_count": 12
  },
  {
   "metadata": {},
   "cell_type": "markdown",
   "source": "## Cross Product"
  },
  {
   "metadata": {
    "ExecuteTime": {
     "end_time": "2024-07-15T06:51:01.342330Z",
     "start_time": "2024-07-15T06:51:01.328295Z"
    }
   },
   "cell_type": "code",
   "source": [
    "a = np.array([1, 2, 3])\n",
    "b = np.array([4, 3, 2])\n",
    "np.cross(a, b)"
   ],
   "outputs": [
    {
     "data": {
      "text/plain": [
       "array([-5, 10, -5])"
      ]
     },
     "execution_count": 13,
     "metadata": {},
     "output_type": "execute_result"
    }
   ],
   "execution_count": 13
  }
 ],
 "metadata": {
  "kernelspec": {
   "display_name": "Python 3",
   "language": "python",
   "name": "python3"
  },
  "language_info": {
   "codemirror_mode": {
    "name": "ipython",
    "version": 3
   },
   "file_extension": ".py",
   "mimetype": "text/x-python",
   "name": "python",
   "nbconvert_exporter": "python",
   "pygments_lexer": "ipython3",
   "version": "3.6.5"
  }
 },
 "nbformat": 4,
 "nbformat_minor": 1
}
