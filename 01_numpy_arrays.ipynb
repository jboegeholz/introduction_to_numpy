{
 "cells": [
  {
   "cell_type": "markdown",
   "metadata": {},
   "source": "# Numpy - Arrays"
  },
  {
   "cell_type": "code",
   "metadata": {
    "ExecuteTime": {
     "end_time": "2024-07-10T12:03:34.963183Z",
     "start_time": "2024-07-10T12:03:34.947762Z"
    }
   },
   "source": [
    "import numpy as np"
   ],
   "outputs": [],
   "execution_count": 13
  },
  {
   "cell_type": "markdown",
   "metadata": {},
   "source": [
    "## Arrays"
   ]
  },
  {
   "cell_type": "code",
   "metadata": {
    "ExecuteTime": {
     "end_time": "2024-07-10T12:03:34.994320Z",
     "start_time": "2024-07-10T12:03:34.978810Z"
    }
   },
   "source": [
    "a = np.array([1, 2, 3, 4])\n",
    "a"
   ],
   "outputs": [
    {
     "data": {
      "text/plain": [
       "array([1, 2, 3, 4])"
      ]
     },
     "execution_count": 14,
     "metadata": {},
     "output_type": "execute_result"
    }
   ],
   "execution_count": 14
  },
  {
   "cell_type": "markdown",
   "metadata": {},
   "source": [
    "### Data Types"
   ]
  },
  {
   "cell_type": "code",
   "metadata": {
    "ExecuteTime": {
     "end_time": "2024-07-10T12:03:35.009952Z",
     "start_time": "2024-07-10T12:03:34.994320Z"
    }
   },
   "source": [
    "a = np.array([1, 2, 3, 4], dtype=\"f\")\n",
    "a"
   ],
   "outputs": [
    {
     "data": {
      "text/plain": [
       "array([1., 2., 3., 4.], dtype=float32)"
      ]
     },
     "execution_count": 15,
     "metadata": {},
     "output_type": "execute_result"
    }
   ],
   "execution_count": 15
  },
  {
   "cell_type": "markdown",
   "metadata": {},
   "source": "## Scalars"
  },
  {
   "cell_type": "markdown",
   "metadata": {},
   "source": [
    "#### You can directly apply scalar arithmetic"
   ]
  },
  {
   "cell_type": "code",
   "metadata": {
    "ExecuteTime": {
     "end_time": "2024-07-10T12:03:35.025378Z",
     "start_time": "2024-07-10T12:03:35.009952Z"
    }
   },
   "source": [
    "a + 2\n",
    "a"
   ],
   "outputs": [
    {
     "data": {
      "text/plain": [
       "array([1., 2., 3., 4.], dtype=float32)"
      ]
     },
     "execution_count": 16,
     "metadata": {},
     "output_type": "execute_result"
    }
   ],
   "execution_count": 16
  },
  {
   "cell_type": "code",
   "metadata": {
    "ExecuteTime": {
     "end_time": "2024-07-10T12:03:35.041002Z",
     "start_time": "2024-07-10T12:03:35.025378Z"
    }
   },
   "source": [
    "a - 3\n",
    "a"
   ],
   "outputs": [
    {
     "data": {
      "text/plain": [
       "array([1., 2., 3., 4.], dtype=float32)"
      ]
     },
     "execution_count": 17,
     "metadata": {},
     "output_type": "execute_result"
    }
   ],
   "execution_count": 17
  },
  {
   "cell_type": "code",
   "metadata": {
    "ExecuteTime": {
     "end_time": "2024-07-10T12:03:35.056628Z",
     "start_time": "2024-07-10T12:03:35.041002Z"
    }
   },
   "source": [
    "a * 4\n",
    "a"
   ],
   "outputs": [
    {
     "data": {
      "text/plain": [
       "array([1., 2., 3., 4.], dtype=float32)"
      ]
     },
     "execution_count": 18,
     "metadata": {},
     "output_type": "execute_result"
    }
   ],
   "execution_count": 18
  },
  {
   "cell_type": "code",
   "metadata": {
    "ExecuteTime": {
     "end_time": "2024-07-10T12:03:35.072253Z",
     "start_time": "2024-07-10T12:03:35.056628Z"
    }
   },
   "source": [
    "a / 5\n",
    "a"
   ],
   "outputs": [
    {
     "data": {
      "text/plain": [
       "array([1., 2., 3., 4.], dtype=float32)"
      ]
     },
     "execution_count": 19,
     "metadata": {},
     "output_type": "execute_result"
    }
   ],
   "execution_count": 19
  },
  {
   "cell_type": "code",
   "metadata": {
    "ExecuteTime": {
     "end_time": "2024-07-10T12:03:35.087881Z",
     "start_time": "2024-07-10T12:03:35.072253Z"
    }
   },
   "source": [
    "a ** 2\n",
    "a"
   ],
   "outputs": [
    {
     "data": {
      "text/plain": [
       "array([1., 2., 3., 4.], dtype=float32)"
      ]
     },
     "execution_count": 20,
     "metadata": {},
     "output_type": "execute_result"
    }
   ],
   "execution_count": 20
  },
  {
   "cell_type": "markdown",
   "metadata": {},
   "source": "## Vector Arithmetics"
  },
  {
   "metadata": {},
   "cell_type": "markdown",
   "source": "### Addition"
  },
  {
   "cell_type": "code",
   "metadata": {
    "ExecuteTime": {
     "end_time": "2024-07-10T12:03:35.110015Z",
     "start_time": "2024-07-10T12:03:35.087881Z"
    }
   },
   "source": [
    "b = np.array([4, 3, 2, 1])\n",
    "a + b"
   ],
   "outputs": [
    {
     "data": {
      "text/plain": [
       "array([5., 5., 5., 5.])"
      ]
     },
     "execution_count": 21,
     "metadata": {},
     "output_type": "execute_result"
    }
   ],
   "execution_count": 21
  },
  {
   "metadata": {},
   "cell_type": "markdown",
   "source": "### Hadamard / Schur Product (element wise multiplication)\n"
  },
  {
   "cell_type": "code",
   "metadata": {
    "ExecuteTime": {
     "end_time": "2024-07-10T12:15:44.524879Z",
     "start_time": "2024-07-10T12:15:44.504596Z"
    }
   },
   "source": [
    "a = np.array([1, 2, 3])\n",
    "b = np.array([4, 3, 2])\n",
    "a * b"
   ],
   "outputs": [
    {
     "data": {
      "text/plain": [
       "array([4, 6, 6])"
      ]
     },
     "execution_count": 28,
     "metadata": {},
     "output_type": "execute_result"
    }
   ],
   "execution_count": 28
  },
  {
   "cell_type": "markdown",
   "metadata": {},
   "source": "### Dot product"
  },
  {
   "cell_type": "code",
   "metadata": {
    "ExecuteTime": {
     "end_time": "2024-07-10T12:27:50.578112Z",
     "start_time": "2024-07-10T12:27:50.540342Z"
    }
   },
   "source": [
    "a.dot(b)\n",
    "# 1*4 + 2*3 + 3*2 + 4*1"
   ],
   "outputs": [
    {
     "data": {
      "text/plain": [
       "np.int64(16)"
      ]
     },
     "execution_count": 29,
     "metadata": {},
     "output_type": "execute_result"
    }
   ],
   "execution_count": 29
  },
  {
   "metadata": {},
   "cell_type": "markdown",
   "source": "#### shorthand"
  },
  {
   "metadata": {
    "ExecuteTime": {
     "end_time": "2024-07-10T12:28:02.055610Z",
     "start_time": "2024-07-10T12:28:02.039979Z"
    }
   },
   "cell_type": "code",
   "source": "a@b",
   "outputs": [
    {
     "data": {
      "text/plain": [
       "np.int64(16)"
      ]
     },
     "execution_count": 30,
     "metadata": {},
     "output_type": "execute_result"
    }
   ],
   "execution_count": 30
  },
  {
   "metadata": {},
   "cell_type": "markdown",
   "source": "## Cross Product"
  },
  {
   "metadata": {
    "ExecuteTime": {
     "end_time": "2024-07-10T12:04:38.157604Z",
     "start_time": "2024-07-10T12:04:38.126366Z"
    }
   },
   "cell_type": "code",
   "source": [
    "a = np.array([1, 2, 3])\n",
    "b = np.array([4, 3, 2])\n",
    "np.cross(a, b)"
   ],
   "outputs": [
    {
     "data": {
      "text/plain": [
       "array([-5, 10, -5])"
      ]
     },
     "execution_count": 26,
     "metadata": {},
     "output_type": "execute_result"
    }
   ],
   "execution_count": 26
  }
 ],
 "metadata": {
  "kernelspec": {
   "display_name": "Python 3",
   "language": "python",
   "name": "python3"
  },
  "language_info": {
   "codemirror_mode": {
    "name": "ipython",
    "version": 3
   },
   "file_extension": ".py",
   "mimetype": "text/x-python",
   "name": "python",
   "nbconvert_exporter": "python",
   "pygments_lexer": "ipython3",
   "version": "3.6.5"
  }
 },
 "nbformat": 4,
 "nbformat_minor": 1
}
